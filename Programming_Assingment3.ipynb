{
 "cells": [
  {
   "cell_type": "code",
   "execution_count": null,
   "id": "87b9a23a",
   "metadata": {},
   "outputs": [],
   "source": [
    "1.\tWrite a Python Program to Check if a Number is Positive, Negative or Zero?"
   ]
  },
  {
   "cell_type": "code",
   "execution_count": null,
   "id": "95c4ffa3",
   "metadata": {},
   "outputs": [],
   "source": [
    "def Check_number(A):\n",
    "    if A==0:\n",
    "        print(\"Provided number is ZERO\")\n",
    "    elif A>0:\n",
    "        print(\"Provided number is POSITIVE\")\n",
    "    else:\n",
    "        print(\"Provided number is NEGATIVE\")"
   ]
  },
  {
   "cell_type": "code",
   "execution_count": null,
   "id": "58e7943f",
   "metadata": {},
   "outputs": [],
   "source": []
  },
  {
   "cell_type": "code",
   "execution_count": null,
   "id": "d5338788",
   "metadata": {},
   "outputs": [],
   "source": [
    "2.\tWrite a Python Program to Check if a Number is Odd or Even?"
   ]
  },
  {
   "cell_type": "code",
   "execution_count": null,
   "id": "fead2069",
   "metadata": {},
   "outputs": [],
   "source": [
    "def Check_ODD_EVEN(A):\n",
    "    if (A%2)==0:\n",
    "        print(\"Provided number\",A ,\"is EVEN\")\n",
    "    else:\n",
    "        print(\"Provided number\",A,\" is ODD\")"
   ]
  },
  {
   "cell_type": "code",
   "execution_count": null,
   "id": "6ec0754e",
   "metadata": {},
   "outputs": [],
   "source": []
  },
  {
   "cell_type": "code",
   "execution_count": null,
   "id": "fe9c2196",
   "metadata": {},
   "outputs": [],
   "source": [
    "3.\tWrite a Python Program to Check Leap Year?"
   ]
  },
  {
   "cell_type": "code",
   "execution_count": null,
   "id": "fceca84c",
   "metadata": {},
   "outputs": [],
   "source": [
    "def Check_Leap_Year(L):\n",
    "    if (L%4)==0 and (L%100!=0):\n",
    "        print(\"Given Year \",L ,\"is Leap Year\")\n",
    "    else:\n",
    "        print(\"Given Year \",L,\"is not Leap Year\")"
   ]
  },
  {
   "cell_type": "code",
   "execution_count": null,
   "id": "487b4520",
   "metadata": {},
   "outputs": [],
   "source": []
  },
  {
   "cell_type": "code",
   "execution_count": null,
   "id": "dc0a6334",
   "metadata": {},
   "outputs": [],
   "source": [
    "4.\tWrite a Python Program to Check Prime Number?"
   ]
  },
  {
   "cell_type": "code",
   "execution_count": null,
   "id": "36aca634",
   "metadata": {},
   "outputs": [],
   "source": [
    "Prime_Number=int(input(\"Enter any number :-\"))\n",
    "for i in range(2,int(Prime_Number/2)+1):\n",
    "    if (Prime_Number%i==0):\n",
    "        print(\"Entered number\",Prime_Number, \"is NOT prime\")\n",
    "        break\n",
    "else:\n",
    "        print(\"Entered number\",Prime_Number, \"is Prime\")"
   ]
  },
  {
   "cell_type": "code",
   "execution_count": null,
   "id": "13d3139c",
   "metadata": {},
   "outputs": [],
   "source": []
  },
  {
   "cell_type": "code",
   "execution_count": null,
   "id": "8c712eab",
   "metadata": {},
   "outputs": [],
   "source": [
    "5.\tWrite a Python Program to Print all Prime Numbers in an Interval of 1-10000?"
   ]
  },
  {
   "cell_type": "code",
   "execution_count": null,
   "id": "08817cce",
   "metadata": {},
   "outputs": [],
   "source": [
    "A=input(\"Starting_range :\" )  \n",
    "B=input(\"Ending_range :\" )\n",
    "\n",
    "\n",
    "def prime(x, y):\n",
    "    prime_list = []\n",
    "    for i in range(x, y):\n",
    "        if i == 0 or i == 1:\n",
    "            continue\n",
    "        else:\n",
    "            for j in range(2, int(i/2)+1):\n",
    "                if i % j == 0:\n",
    "                    break\n",
    "            else:\n",
    "                prime_list.append(i)\n",
    "    return prime_list\n",
    "\n",
    "Starting_range=2\n",
    "Ending_range=10000\n",
    "\n",
    "lst = prime(Starting_range, Ending_range)\n",
    "if len(lst) == 0:\n",
    "    print(\"There are no prime numbers in this range\")\n",
    "else:\n",
    "    print(\"The prime numbers in this range are: \", lst)   "
   ]
  },
  {
   "cell_type": "code",
   "execution_count": null,
   "id": "5337a07f",
   "metadata": {},
   "outputs": [],
   "source": []
  }
 ],
 "metadata": {
  "kernelspec": {
   "display_name": "Python 3 (ipykernel)",
   "language": "python",
   "name": "python3"
  },
  "language_info": {
   "codemirror_mode": {
    "name": "ipython",
    "version": 3
   },
   "file_extension": ".py",
   "mimetype": "text/x-python",
   "name": "python",
   "nbconvert_exporter": "python",
   "pygments_lexer": "ipython3",
   "version": "3.9.7"
  }
 },
 "nbformat": 4,
 "nbformat_minor": 5
}
