{
 "cells": [
  {
   "cell_type": "code",
   "execution_count": null,
   "id": "c510cd37",
   "metadata": {},
   "outputs": [],
   "source": [
    "1.\tWrite a Python Program to Find the Factorial of a Number?"
   ]
  },
  {
   "cell_type": "code",
   "execution_count": null,
   "id": "42f02835",
   "metadata": {},
   "outputs": [],
   "source": [
    "def factorial(n):\n",
    "    return 1 if (n==0 or n==1) else n*factorial(n-1);\n",
    "\n",
    "#driver code\n",
    "num=25;\n",
    "print(\"Factorial of \",num,\"is\",factorial (num))"
   ]
  },
  {
   "cell_type": "code",
   "execution_count": null,
   "id": "6a255c42",
   "metadata": {},
   "outputs": [],
   "source": []
  },
  {
   "cell_type": "code",
   "execution_count": null,
   "id": "5963e371",
   "metadata": {},
   "outputs": [],
   "source": [
    "2.\tWrite a Python Program to Display the multiplication Table?"
   ]
  },
  {
   "cell_type": "code",
   "execution_count": null,
   "id": "a5349914",
   "metadata": {},
   "outputs": [],
   "source": [
    "num=int(input(\"Required table for :- \"))\n",
    "for i in range(1,11):\n",
    "    print(num,\"x\",i,\"=\",num*i)"
   ]
  },
  {
   "cell_type": "code",
   "execution_count": null,
   "id": "4593b067",
   "metadata": {},
   "outputs": [],
   "source": []
  },
  {
   "cell_type": "code",
   "execution_count": null,
   "id": "c9ba642b",
   "metadata": {},
   "outputs": [],
   "source": [
    "3.\tWrite a Python Program to Print the Fibonacci sequence?"
   ]
  },
  {
   "cell_type": "code",
   "execution_count": null,
   "id": "c501fc47",
   "metadata": {},
   "outputs": [],
   "source": [
    "def Fibonacci(n):\n",
    "    a=0\n",
    "    b=1\n",
    "    \n",
    "    #check whether n is less than zero\n",
    "    if n<0:\n",
    "        print(\"Incorrect input \")\n",
    "    elif n==0:\n",
    "        print(\"Fibonacci sequence is zero\")\n",
    "    elif n==1:\n",
    "        print(\"Fibonacci sequence is One\")\n",
    "    else:\n",
    "        for i in range(1,n):\n",
    "            c=a+b\n",
    "            a=b\n",
    "            b=c\n",
    "        return b"
   ]
  },
  {
   "cell_type": "code",
   "execution_count": null,
   "id": "e7c774d1",
   "metadata": {},
   "outputs": [],
   "source": []
  },
  {
   "cell_type": "code",
   "execution_count": null,
   "id": "d1929080",
   "metadata": {},
   "outputs": [],
   "source": [
    "4.\tWrite a Python Program to Check Armstrong Number?"
   ]
  },
  {
   "cell_type": "code",
   "execution_count": null,
   "id": "14763c03",
   "metadata": {},
   "outputs": [],
   "source": [
    "    num = int(input(\"Enter a number: \"))\n",
    "    sum=0\n",
    "    temp=num\n",
    "\n",
    "    while temp>0:\n",
    "        digit=temp%10\n",
    "        sum=sum+digit**3\n",
    "        temp=temp//10\n",
    "    if num==sum:\n",
    "        print(\"It is Armstrong number\")\n",
    "    else:\n",
    "        print(\"Not Armstrong number\")"
   ]
  },
  {
   "cell_type": "code",
   "execution_count": null,
   "id": "20cb4051",
   "metadata": {},
   "outputs": [],
   "source": []
  },
  {
   "cell_type": "code",
   "execution_count": null,
   "id": "8de127d3",
   "metadata": {},
   "outputs": [],
   "source": [
    "5.\tWrite a Python Program to Find Armstrong Number in an Interval?"
   ]
  },
  {
   "cell_type": "code",
   "execution_count": null,
   "id": "2834c3b2",
   "metadata": {},
   "outputs": [],
   "source": [
    "for num in range(100,1000):\n",
    "    temp=num\n",
    "    sum=0\n",
    "    while temp>0:\n",
    "        digit=temp%10\n",
    "        sum=sum+digit**3\n",
    "        temp=temp//10\n",
    "    if sum==num:\n",
    "            print (num)"
   ]
  },
  {
   "cell_type": "code",
   "execution_count": null,
   "id": "ad200b6f",
   "metadata": {},
   "outputs": [],
   "source": []
  },
  {
   "cell_type": "code",
   "execution_count": null,
   "id": "7930c655",
   "metadata": {},
   "outputs": [],
   "source": [
    "6.\tWrite a Python Program to Find the Sum of Natural Numbers?"
   ]
  },
  {
   "cell_type": "code",
   "execution_count": null,
   "id": "d62a1d6f",
   "metadata": {},
   "outputs": [],
   "source": [
    "def Sum(n):\n",
    "    s,i=0,0\n",
    "    while i<n:\n",
    "        i=i+1\n",
    "        s=s+i\n",
    "    return \"Sum of natural number is\",s"
   ]
  },
  {
   "cell_type": "code",
   "execution_count": null,
   "id": "b7ec89f9",
   "metadata": {},
   "outputs": [],
   "source": []
  }
 ],
 "metadata": {
  "kernelspec": {
   "display_name": "Python 3 (ipykernel)",
   "language": "python",
   "name": "python3"
  },
  "language_info": {
   "codemirror_mode": {
    "name": "ipython",
    "version": 3
   },
   "file_extension": ".py",
   "mimetype": "text/x-python",
   "name": "python",
   "nbconvert_exporter": "python",
   "pygments_lexer": "ipython3",
   "version": "3.9.7"
  }
 },
 "nbformat": 4,
 "nbformat_minor": 5
}
