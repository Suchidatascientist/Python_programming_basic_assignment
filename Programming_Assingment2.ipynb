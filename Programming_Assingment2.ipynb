{
 "cells": [
  {
   "cell_type": "code",
   "execution_count": null,
   "id": "4d04e530",
   "metadata": {},
   "outputs": [],
   "source": [
    "1.\tWrite a Python program to convert kilometers to miles"
   ]
  },
  {
   "cell_type": "code",
   "execution_count": null,
   "id": "f9e05972",
   "metadata": {},
   "outputs": [],
   "source": [
    "#distance covered in kilometer\n",
    "x=float(input(\"Enter the distance covered in kilometer: \"))\n",
    "\n",
    "#1 kilometer=0.621 mile\n",
    "Distance_in_miles=x*0.621\n",
    "print (Distance_in_miles,\"miles\")"
   ]
  },
  {
   "cell_type": "code",
   "execution_count": null,
   "id": "c2a0dd9c",
   "metadata": {},
   "outputs": [],
   "source": []
  },
  {
   "cell_type": "code",
   "execution_count": null,
   "id": "cbd08cb2",
   "metadata": {},
   "outputs": [],
   "source": [
    "2.\tWrite a Python program to convert Celsius to Fahrenheit"
   ]
  },
  {
   "cell_type": "code",
   "execution_count": null,
   "id": "4b306961",
   "metadata": {},
   "outputs": [],
   "source": [
    "#Degrres in celcius calculated\n",
    "Degree=float(input(\"Enter the temperature calculated in celcius: \"))\n",
    "\n",
    "#conversion from celcius to Fahrenheit\n",
    "\n",
    "Fahrenheit_temperature=(1.8*Degree)+32\n",
    "print (Fahrenheit_temperature)"
   ]
  },
  {
   "cell_type": "code",
   "execution_count": null,
   "id": "127d6010",
   "metadata": {},
   "outputs": [],
   "source": []
  },
  {
   "cell_type": "code",
   "execution_count": null,
   "id": "d2e8aad1",
   "metadata": {},
   "outputs": [],
   "source": [
    "3.\tWrite a Python program to display calendar?"
   ]
  },
  {
   "cell_type": "code",
   "execution_count": null,
   "id": "97fd34a0",
   "metadata": {},
   "outputs": [],
   "source": [
    "import calendar\n",
    "#In put for year and month\n",
    "Year=int(input(\"Enter the Year : \"))\n",
    "Month=int(input(\"Enter the Month :\"))\n",
    "\n",
    "#display the calendar\n",
    "print(calendar.month(Year,Month))\n",
    "print(calendar.calendar(Year))"
   ]
  },
  {
   "cell_type": "code",
   "execution_count": null,
   "id": "3a4a1e61",
   "metadata": {},
   "outputs": [],
   "source": []
  },
  {
   "cell_type": "code",
   "execution_count": null,
   "id": "6c9622e1",
   "metadata": {},
   "outputs": [],
   "source": [
    "4.\tWrite a Python program to solve quadratic equation?"
   ]
  },
  {
   "cell_type": "code",
   "execution_count": null,
   "id": "edbe9d52",
   "metadata": {},
   "outputs": [],
   "source": [
    "#import complex math module\n",
    "import math\n",
    "a=float(input(\"Enter value for A :\"))\n",
    "b=float(input(\"Enter value for B :\"))\n",
    "c=float(input(\"Enter value for C :\"))\n",
    "\n",
    "#calculate discriminant\n",
    "d=(b*b)-(4*a*c)\n",
    "sqrt_val = math.sqrt(abs(d)) \n",
    "\n",
    "\n",
    "if (b*b)==(4*a*c):\n",
    "    print(\"Quadratic equation have real and equal roots\",-b / (2 * a))\n",
    "elif (b*b)>(4*a*c):\n",
    "        print(\"Quadratic equation have two real roots\")\n",
    "        print(\"Root 1\",(-b + sqrt_val)/(2 * a) )\n",
    "        print (\"Root 2\",(-b - sqrt_val)/(2 * a))\n",
    "else:\n",
    "    print(\"Quadratic equation have complex roots\")\n",
    "    print(\"First Complex root :- \",(- b / (2 * a)),\"+i\")\n",
    "    print(\"Second Complex root:- \",(- b / (2 * a)),\"-i\")"
   ]
  },
  {
   "cell_type": "code",
   "execution_count": null,
   "id": "dec55aa1",
   "metadata": {},
   "outputs": [],
   "source": []
  },
  {
   "cell_type": "code",
   "execution_count": null,
   "id": "2ea9d2c3",
   "metadata": {},
   "outputs": [],
   "source": [
    "5.\tWrite a Python program to swap two variables without temp variable?"
   ]
  },
  {
   "cell_type": "code",
   "execution_count": null,
   "id": "2d26ecb8",
   "metadata": {},
   "outputs": [],
   "source": [
    "A=int(input(\"Enter first variable :- \"))\n",
    "B=int(input(\"Enter second variable :- \"))\n",
    "\n",
    "print (\"Value of A before swap :\",A)\n",
    "print (\"Value of B before swap :\",B)\n",
    "\n",
    "#swap the value\n",
    "A==B and B==A\n",
    "\n",
    "print (\"Value of A after swap :\",B)\n",
    "print (\"Value of B after swap :\",A)"
   ]
  }
 ],
 "metadata": {
  "kernelspec": {
   "display_name": "Python 3 (ipykernel)",
   "language": "python",
   "name": "python3"
  },
  "language_info": {
   "codemirror_mode": {
    "name": "ipython",
    "version": 3
   },
   "file_extension": ".py",
   "mimetype": "text/x-python",
   "name": "python",
   "nbconvert_exporter": "python",
   "pygments_lexer": "ipython3",
   "version": "3.9.7"
  }
 },
 "nbformat": 4,
 "nbformat_minor": 5
}
