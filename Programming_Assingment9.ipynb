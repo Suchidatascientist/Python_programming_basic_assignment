{
 "cells": [
  {
   "cell_type": "code",
   "execution_count": null,
   "id": "b22f1747",
   "metadata": {},
   "outputs": [],
   "source": [
    "1.\tWrite a Python program to check if the given number is a Disarium Number?"
   ]
  },
  {
   "cell_type": "code",
   "execution_count": null,
   "id": "b92d3296",
   "metadata": {},
   "outputs": [],
   "source": [
    "import math\n",
    " \n",
    "def check(n) :\n",
    " \n",
    "    # Count digits in n.\n",
    "    count_digits = len(str(n))\n",
    "      \n",
    "    sum = 0  \n",
    "    x = n\n",
    "    while (x!=0) :\n",
    "        r = x % 10\n",
    "        sum = (int) (sum + r** count_digits)\n",
    "        count_digits = count_digits - 1\n",
    "        x = x//10\n",
    "        \n",
    "    if sum == n :\n",
    "        return 1\n",
    "    else :\n",
    "        return 0\n",
    "       \n",
    "# Driver method\n",
    "n = 135\n",
    "if (check(n) == 1) :\n",
    "    print (\"Disarium Number\")\n",
    "else :\n",
    "    print (\"Not a Disarium Number\")"
   ]
  },
  {
   "cell_type": "code",
   "execution_count": null,
   "id": "3091aa84",
   "metadata": {},
   "outputs": [],
   "source": []
  },
  {
   "cell_type": "code",
   "execution_count": null,
   "id": "97efbecf",
   "metadata": {},
   "outputs": [],
   "source": [
    "2.\tWrite a Python program to print all disarium numbers between 1 to 100?"
   ]
  },
  {
   "cell_type": "code",
   "execution_count": null,
   "id": "b138dc9b",
   "metadata": {},
   "outputs": [],
   "source": [
    "import math\n",
    "def check_disarium(n) :\n",
    "    count_digits = len(str(n))\n",
    "    disarium_num = 0    \n",
    "  \n",
    "    sum = 0  \n",
    "    x = n\n",
    "    while (x!=0) :\n",
    "        r = x % 10\n",
    "        sum = (int) (sum + r** count_digits)\n",
    "        count_digits = count_digits - 1\n",
    "        x = x//10\n",
    "    return   sum\n",
    "\n",
    "       \n",
    "print(\"DISARIUM NUMBERS WITHIN RANGE 1 TO 100 ARE -\")\n",
    "for i in range(1,101):   \n",
    "  if check_disarium(i) == i:\n",
    "    print(i,end=\" \")"
   ]
  },
  {
   "cell_type": "code",
   "execution_count": null,
   "id": "3db95525",
   "metadata": {},
   "outputs": [],
   "source": []
  },
  {
   "cell_type": "code",
   "execution_count": null,
   "id": "5e004c9f",
   "metadata": {},
   "outputs": [],
   "source": [
    "3.\tWrite a Python program to check if the given number is Happy Number?"
   ]
  },
  {
   "cell_type": "code",
   "execution_count": null,
   "id": "2dbd7561",
   "metadata": {},
   "outputs": [],
   "source": [
    "#isHappyNumber() will determine whether a number is happy or not    \n",
    "def isHappyNumber(num):\n",
    "    rem = sum = 0;    \n",
    "#Calculates the sum of squares of digits    \n",
    "    while(num > 0):    \n",
    "        rem = num%10;    \n",
    "        sum = sum + (rem*rem);    \n",
    "        num = num//10;    \n",
    "    return sum;    \n",
    "\n",
    "num = 24;    \n",
    "result = num;    \n",
    "\n",
    "while(result != 1 and result != 4):    \n",
    "    result = isHappyNumber(result);\n",
    "    \n",
    "#Happy number always ends with 1    \n",
    "if(result == 1):    \n",
    "    print(str(num) + \" is a happy number\"); \n",
    "\n",
    "#Unhappy number ends in a cycle of repeating numbers which contain 4    \n",
    "elif(result == 4):    \n",
    "    print(str(num) + \" is not a happy number\");   \n"
   ]
  },
  {
   "cell_type": "code",
   "execution_count": null,
   "id": "eb328f73",
   "metadata": {},
   "outputs": [],
   "source": []
  },
  {
   "cell_type": "code",
   "execution_count": null,
   "id": "54ee0fa0",
   "metadata": {},
   "outputs": [],
   "source": [
    "4.\tWrite a Python program to print all happy numbers between 1 and 100?"
   ]
  },
  {
   "cell_type": "code",
   "execution_count": null,
   "id": "1b766a5a",
   "metadata": {},
   "outputs": [],
   "source": [
    "#isHappyNumber() will determine whether a number is happy or not    \n",
    "def isHappyNumber(num):    \n",
    "    rem = sum = 0;    \n",
    "        \n",
    "    #Calculates the sum of squares of digits    \n",
    "    while(num > 0):    \n",
    "        rem = num%10;    \n",
    "        sum = sum + (rem*rem);    \n",
    "        num = num//10;    \n",
    "    return sum;    \n",
    "            \n",
    "#Displays all happy numbers between 1 and 100    \n",
    "print(\"List of happy numbers between 1 and 100: \");    \n",
    "for i in range(1, 101):    \n",
    "    result = i;    \n",
    "        \n",
    "    while(result != 1 and result != 4):    \n",
    "        result = isHappyNumber(result);    \n",
    "        \n",
    "    if(result == 1):    \n",
    "        print(i),    \n",
    "        print(\" \"), "
   ]
  },
  {
   "cell_type": "code",
   "execution_count": null,
   "id": "dc180f4b",
   "metadata": {},
   "outputs": [],
   "source": []
  },
  {
   "cell_type": "code",
   "execution_count": null,
   "id": "3d45142b",
   "metadata": {},
   "outputs": [],
   "source": [
    "5.\tWrite a Python program to determine whether the given number is a Harshad Number?"
   ]
  },
  {
   "cell_type": "code",
   "execution_count": null,
   "id": "e1e1b1ab",
   "metadata": {},
   "outputs": [],
   "source": [
    "num = int(input(\"Enter a number: \"))    \n",
    "digit = sum = 0\n",
    "temp = num   \n",
    "     \n",
    "# Calculates sum of digits    \n",
    "while(temp > 0):    \n",
    "    digit = temp % 10\n",
    "    sum = sum + digit    \n",
    "    temp = temp // 10    \n",
    "     \n",
    "# Checks whether the number is divisible by the sum of digits    \n",
    "if num % sum == 0:    \n",
    "    print(num, \"is a Harshad Number!!!\")    \n",
    "else:    \n",
    "    print(num, \"is not a Harshad Number!!!\")"
   ]
  },
  {
   "cell_type": "code",
   "execution_count": null,
   "id": "42ba0997",
   "metadata": {},
   "outputs": [],
   "source": []
  },
  {
   "cell_type": "code",
   "execution_count": null,
   "id": "ec9b4d31",
   "metadata": {},
   "outputs": [],
   "source": [
    "6.\tWrite a Python program to print all pronic numbers between 1 and 100?"
   ]
  },
  {
   "cell_type": "code",
   "execution_count": null,
   "id": "35b033ff",
   "metadata": {},
   "outputs": [],
   "source": [
    "import math\n",
    " \n",
    "# function to check\n",
    "# Pronic Number\n",
    "def checkPronic (x) :\n",
    " \n",
    "    i = 0\n",
    "    while ( i <= (int)(math.sqrt(x)) ) :\n",
    "         \n",
    "        # Checking Pronic Number\n",
    "        # by multiplying consecutive\n",
    "        # numbers\n",
    "        if ( x == i * (i + 1)) :\n",
    "            return True\n",
    "        i = i + 1\n",
    " \n",
    "    return False\n",
    " \n",
    "# Driver Code\n",
    " \n",
    "# Printing Pronic\n",
    "# Numbers upto 100\n",
    "i = 0\n",
    "while (i <= 100 ) :\n",
    "    if checkPronic(i) :\n",
    "        print(i,end=\" \")\n",
    "    i = i + 1\n"
   ]
  },
  {
   "cell_type": "code",
   "execution_count": null,
   "id": "3180b0db",
   "metadata": {},
   "outputs": [],
   "source": []
  }
 ],
 "metadata": {
  "kernelspec": {
   "display_name": "Python 3 (ipykernel)",
   "language": "python",
   "name": "python3"
  },
  "language_info": {
   "codemirror_mode": {
    "name": "ipython",
    "version": 3
   },
   "file_extension": ".py",
   "mimetype": "text/x-python",
   "name": "python",
   "nbconvert_exporter": "python",
   "pygments_lexer": "ipython3",
   "version": "3.9.7"
  }
 },
 "nbformat": 4,
 "nbformat_minor": 5
}
