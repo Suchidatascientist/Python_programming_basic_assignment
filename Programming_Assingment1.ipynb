{
 "cells": [
  {
   "cell_type": "code",
   "execution_count": null,
   "id": "ec83c52a",
   "metadata": {},
   "outputs": [],
   "source": [
    "1.\tWrite a Python program to print \"Hello Python\"?"
   ]
  },
  {
   "cell_type": "code",
   "execution_count": null,
   "id": "1323a41e",
   "metadata": {},
   "outputs": [],
   "source": [
    "print(\"Hello Python\")"
   ]
  },
  {
   "cell_type": "code",
   "execution_count": null,
   "id": "77916784",
   "metadata": {},
   "outputs": [],
   "source": []
  },
  {
   "cell_type": "code",
   "execution_count": null,
   "id": "da9b42be",
   "metadata": {},
   "outputs": [],
   "source": [
    "2.\tWrite a Python program to do arithmetical operations addition and division.?"
   ]
  },
  {
   "cell_type": "code",
   "execution_count": null,
   "id": "f28933bf",
   "metadata": {},
   "outputs": [],
   "source": [
    "a =lambda a,b:(a+b,a/b)"
   ]
  },
  {
   "cell_type": "code",
   "execution_count": null,
   "id": "a2584bd8",
   "metadata": {},
   "outputs": [],
   "source": []
  },
  {
   "cell_type": "code",
   "execution_count": null,
   "id": "a9d88e0c",
   "metadata": {},
   "outputs": [],
   "source": [
    "3.\tWrite a Python program to find the area of a triangle?"
   ]
  },
  {
   "cell_type": "code",
   "execution_count": null,
   "id": "7f37d5e3",
   "metadata": {},
   "outputs": [],
   "source": [
    "#sides of triangle are a,b,c\n",
    "a=float(input (\"Enter the first side lengh: \"))\n",
    "b=float(input (\"Enter the Second side lengh: \"))\n",
    "c=float(input (\"Enter the third side lengh: \"))\n",
    "\n",
    "#calculation of semi-perimeter\n",
    "s=(a+b+c)/2\n",
    "Area=(s*(s-a)*(s*b)*(s*c)**0.5)\n",
    "\n",
    "print(\"The area of triangle is \",Area)"
   ]
  },
  {
   "cell_type": "code",
   "execution_count": null,
   "id": "2919305d",
   "metadata": {},
   "outputs": [],
   "source": []
  },
  {
   "cell_type": "code",
   "execution_count": null,
   "id": "c24792e3",
   "metadata": {},
   "outputs": [],
   "source": [
    "4.\tWrite a Python program to swap two variables?"
   ]
  },
  {
   "cell_type": "code",
   "execution_count": null,
   "id": "057de3af",
   "metadata": {},
   "outputs": [],
   "source": [
    "x=50\n",
    "y=10\n",
    "\n",
    "x,y=y,x\n",
    "\n",
    "print(\"value of X is \" ,x)\n",
    "print(\"Value of Y is \",y)"
   ]
  },
  {
   "cell_type": "code",
   "execution_count": null,
   "id": "05fff231",
   "metadata": {},
   "outputs": [],
   "source": []
  },
  {
   "cell_type": "code",
   "execution_count": null,
   "id": "f3effc69",
   "metadata": {},
   "outputs": [],
   "source": [
    "5.\tWrite a Python program to generate a random number?"
   ]
  },
  {
   "cell_type": "code",
   "execution_count": 14,
   "id": "aaf3a70c",
   "metadata": {},
   "outputs": [],
   "source": [
    "import random\n",
    "def random_number(*args):\n",
    "    return (random.choice(*args))\n",
    "    "
   ]
  }
 ],
 "metadata": {
  "kernelspec": {
   "display_name": "Python 3 (ipykernel)",
   "language": "python",
   "name": "python3"
  },
  "language_info": {
   "codemirror_mode": {
    "name": "ipython",
    "version": 3
   },
   "file_extension": ".py",
   "mimetype": "text/x-python",
   "name": "python",
   "nbconvert_exporter": "python",
   "pygments_lexer": "ipython3",
   "version": "3.9.7"
  }
 },
 "nbformat": 4,
 "nbformat_minor": 5
}
