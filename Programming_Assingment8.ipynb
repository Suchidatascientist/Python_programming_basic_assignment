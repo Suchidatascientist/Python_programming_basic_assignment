{
 "cells": [
  {
   "cell_type": "code",
   "execution_count": null,
   "id": "e4ceadec",
   "metadata": {},
   "outputs": [],
   "source": [
    "1.\tWrite a Python Program to Add Two Matrices?"
   ]
  },
  {
   "cell_type": "code",
   "execution_count": null,
   "id": "7616616d",
   "metadata": {},
   "outputs": [],
   "source": [
    "X = [[1,2,3],\n",
    "    [4 ,5,6],\n",
    "    [7 ,8,9]]\n",
    "\n",
    "Y = [[9,8,7],\n",
    "    [6,5,4],\n",
    "    [3,2,1]]\n",
    "\n",
    "Result=[[0,0,0],\n",
    "       [0,0,0],\n",
    "       [0,0,0]]\n",
    "\n",
    "for i in range(len(X)):  \n",
    "    for j in range(len(X[0])):\n",
    "        Result[i][j] = X[i][j] + Y[i][j]\n",
    "for r in Result:\n",
    "\n",
    "        print(r)"
   ]
  },
  {
   "cell_type": "code",
   "execution_count": null,
   "id": "30066307",
   "metadata": {},
   "outputs": [],
   "source": []
  },
  {
   "cell_type": "code",
   "execution_count": null,
   "id": "369c1356",
   "metadata": {},
   "outputs": [],
   "source": [
    "2.\tWrite a Python Program to Multiply Two Matrices?"
   ]
  },
  {
   "cell_type": "code",
   "execution_count": null,
   "id": "590b66da",
   "metadata": {},
   "outputs": [],
   "source": [
    "A = [[12, 7, 3],\n",
    "    [4, 5, 6],\n",
    "    [7, 8, 9]]\n",
    "B = [[5, 8, 1, 2],\n",
    "    [6, 7, 3, 0],\n",
    "    [4, 5, 9, 1]]\n",
    "result = [[0, 0, 0, 0],\n",
    "        [0, 0, 0, 0],\n",
    "        [0, 0, 0, 0]]\n",
    "for i in range(len(A)):\n",
    "    for j in range(len(B[0])):\n",
    "        for k in range(len(B)):\n",
    "            result[i][j] += A[i][k] * B[k][j]\n",
    "\n",
    "for r in result:\n",
    "    print(r)"
   ]
  },
  {
   "cell_type": "code",
   "execution_count": null,
   "id": "37e08d5e",
   "metadata": {},
   "outputs": [],
   "source": []
  },
  {
   "cell_type": "code",
   "execution_count": null,
   "id": "914c7cb9",
   "metadata": {},
   "outputs": [],
   "source": [
    "3.\tWrite a Python Program to Transpose a Matrix?"
   ]
  },
  {
   "cell_type": "code",
   "execution_count": null,
   "id": "7b0965ef",
   "metadata": {},
   "outputs": [],
   "source": [
    "Row=3\n",
    "Column=5\n",
    "\n",
    "def Transpose(A,B):\n",
    "    for i in range(Column):\n",
    "        for j in range(Row):\n",
    "            B[i][j]=A[j][i]\n",
    "            \n",
    "A = [ [1, 1, 1, 1,1],\n",
    "    [2, 2, 2, 2,2],\n",
    "    [3, 3, 3, 3,3]]\n",
    "\n",
    "\n",
    "B = [[0 for x in range(Row)] for y in range(Column)] \n",
    "\n",
    "Transpose(A, B)\n",
    "\n",
    "\n",
    "print(\"Result matrix is\")\n",
    "for i in range(Column):\n",
    "    for j in range(Row):\n",
    "        print(B[i][j], \" \", end='')\n",
    "    print('')    "
   ]
  },
  {
   "cell_type": "code",
   "execution_count": null,
   "id": "a27096b5",
   "metadata": {},
   "outputs": [],
   "source": []
  },
  {
   "cell_type": "code",
   "execution_count": null,
   "id": "8f06f1d3",
   "metadata": {},
   "outputs": [],
   "source": [
    "4.\tWrite a Python Program to Sort Words in Alphabetic Order?"
   ]
  },
  {
   "cell_type": "code",
   "execution_count": null,
   "id": "302caa71",
   "metadata": {},
   "outputs": [],
   "source": [
    "my_str=input(\"Enter the string :- \")\n",
    "words = [word.lower() for word in my_str.split()]\n",
    "words.sort()\n",
    "\n",
    "\n",
    "print(\"The sorted words are:\")\n",
    "for word in words:\n",
    "       print(word)"
   ]
  },
  {
   "cell_type": "code",
   "execution_count": null,
   "id": "78824fc9",
   "metadata": {},
   "outputs": [],
   "source": []
  },
  {
   "cell_type": "code",
   "execution_count": null,
   "id": "5587f602",
   "metadata": {},
   "outputs": [],
   "source": [
    "5.\tWrite a Python Program to Remove Punctuation From a String?"
   ]
  },
  {
   "cell_type": "code",
   "execution_count": null,
   "id": "8717e3d2",
   "metadata": {},
   "outputs": [],
   "source": [
    "punctuations = '''!()-[]{};:'\"\\,<>./?@#$%^&*_~'''\n",
    "my_str = input(\"Enter a string: \")\n",
    "no_punct = \"\"\n",
    "for char in my_str:\n",
    "    if char not in punctuations:\n",
    "        no_punct = no_punct + char\n",
    "print(no_punct)"
   ]
  },
  {
   "cell_type": "code",
   "execution_count": null,
   "id": "db620e2a",
   "metadata": {},
   "outputs": [],
   "source": []
  }
 ],
 "metadata": {
  "kernelspec": {
   "display_name": "Python 3 (ipykernel)",
   "language": "python",
   "name": "python3"
  },
  "language_info": {
   "codemirror_mode": {
    "name": "ipython",
    "version": 3
   },
   "file_extension": ".py",
   "mimetype": "text/x-python",
   "name": "python",
   "nbconvert_exporter": "python",
   "pygments_lexer": "ipython3",
   "version": "3.9.7"
  }
 },
 "nbformat": 4,
 "nbformat_minor": 5
}
