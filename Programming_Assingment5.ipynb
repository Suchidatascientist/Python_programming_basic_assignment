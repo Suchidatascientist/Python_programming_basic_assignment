{
 "cells": [
  {
   "cell_type": "markdown",
   "id": "3829d6cb",
   "metadata": {},
   "source": [
    "1.\tWrite a Python Program to Find LCM?"
   ]
  },
  {
   "cell_type": "markdown",
   "id": "ca64be8b",
   "metadata": {},
   "source": [
    "num1=int(input(\"Enter the 1 st no:-\"))\n",
    "num2=int(input(\"Enter the 2 st no:-\"))\n",
    "\n",
    "\n",
    "for i in range(max(num1, num2), 1 + (num1 * num2)):\n",
    "    if i % num1 ==0 and i % num2 == 0:\n",
    "        lcm = i\n",
    "        break\n",
    "\n",
    "print(\"LCM of\", num1, \"and\", num2, \"is\", lcm)"
   ]
  },
  {
   "cell_type": "markdown",
   "id": "0a2e34d2",
   "metadata": {},
   "source": []
  },
  {
   "cell_type": "markdown",
   "id": "df5cbf48",
   "metadata": {},
   "source": [
    "2.\tWrite a Python Program to Find HCF?"
   ]
  },
  {
   "cell_type": "markdown",
   "id": "3e8abb0b",
   "metadata": {},
   "source": [
    "num1=int(input(\"Enter the 1 st no:-\"))\n",
    "num2=int(input(\"Enter the 2 st no:-\"))\n",
    "\n",
    "hcf = 1\n",
    "\n",
    "for i in range(1, min(num1, num2)):\n",
    "\n",
    "    if num1 % i == 0 and num2 % i == 0:\n",
    "        hcf = i\n",
    "\n",
    "print(\"Hcf of\", num1, \"and\", num2, \"is\", hcf)"
   ]
  },
  {
   "cell_type": "markdown",
   "id": "a77ffa50",
   "metadata": {},
   "source": []
  },
  {
   "cell_type": "markdown",
   "id": "99a1e66d",
   "metadata": {},
   "source": [
    "3.\tWrite a Python Program to Convert Decimal to Binary, Octal and Hexadecimal?"
   ]
  },
  {
   "cell_type": "markdown",
   "id": "3ec55e81",
   "metadata": {},
   "source": [
    "dec=int(input(\"Enter the number \"))\n",
    "print(\"The decimal value of\", dec, \"is:\")\n",
    "print( \"In binary it is\",bin(dec),)\n",
    "print( \"In octal it is\",oct(dec))\n",
    "print(\"In hexadecimal \",hex(dec))"
   ]
  },
  {
   "cell_type": "markdown",
   "id": "c9e6fe97",
   "metadata": {},
   "source": []
  },
  {
   "cell_type": "markdown",
   "id": "016ff806",
   "metadata": {},
   "source": [
    "4.\tWrite a Python Program To Find ASCII value of a character?"
   ]
  },
  {
   "cell_type": "markdown",
   "id": "25cba608",
   "metadata": {},
   "source": [
    "c=input(\"Enter the key :-\")\n",
    "print(\"The ASCII value of :-\" + c + \"' is\", ord(c))"
   ]
  },
  {
   "cell_type": "markdown",
   "id": "23ac5b9a",
   "metadata": {},
   "source": []
  },
  {
   "cell_type": "markdown",
   "id": "9fbd8be6",
   "metadata": {},
   "source": [
    "5.\tWrite a Python Program to Make a Simple Calculator with 4 basic mathematical operations?"
   ]
  },
  {
   "cell_type": "markdown",
   "id": "1fe77674",
   "metadata": {},
   "source": [
    "def add(num1, num2):\n",
    "    return num1 + num2\n",
    "\n",
    "def subtract(num1, num2):\n",
    "    return num1 - num2\n",
    "\n",
    "def multiply(num1, num2):\n",
    "    return num1 * num2\n",
    "\n",
    "def divide(num1, num2):\n",
    "    return num1 / num2\n",
    "\n",
    "print(\"Please select operation -\\n\" \\\n",
    "      \"1. Add\\n\" \\\n",
    "      \"2. Subtract\\n\" \\\n",
    "      \"3. Multiply\\n\" \\\n",
    "      \"4. Divide\\n\")\n",
    "\n",
    "\n",
    "select = int(input(\"Select operations form 1, 2, 3, 4 :\"))\n",
    "\n",
    "number_1 = int(input(\"Enter first number: \"))\n",
    "number_2 = int(input(\"Enter second number: \"))\n",
    "\n",
    "if select == 1:\n",
    "    print(number_1, \"+\", number_2, \"=\",add(number_1, number_2))\n",
    "\n",
    "elif select == 2:\n",
    "    print(number_1, \"-\", number_2, \"=\",subtract(number_1, number_2))\n",
    "\n",
    "elif select == 3:\n",
    "     print(number_1, \"*\", number_2, \"=\",multiply(number_1, number_2))\n",
    "\n",
    "elif select == 4:\n",
    "     print(number_1, \"/\", number_2, \"=\",divide(number_1, number_2))\n",
    "else:\n",
    "    print(\"Invalid input\")"
   ]
  }
 ],
 "metadata": {
  "kernelspec": {
   "display_name": "Python 3 (ipykernel)",
   "language": "python",
   "name": "python3"
  },
  "language_info": {
   "codemirror_mode": {
    "name": "ipython",
    "version": 3
   },
   "file_extension": ".py",
   "mimetype": "text/x-python",
   "name": "python",
   "nbconvert_exporter": "python",
   "pygments_lexer": "ipython3",
   "version": "3.9.7"
  }
 },
 "nbformat": 4,
 "nbformat_minor": 5
}
