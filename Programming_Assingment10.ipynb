{
 "cells": [
  {
   "cell_type": "code",
   "execution_count": null,
   "id": "7ce9728e",
   "metadata": {},
   "outputs": [],
   "source": [
    "1.\tWrite a Python program to find sum of elements in list?"
   ]
  },
  {
   "cell_type": "code",
   "execution_count": null,
   "id": "4c21cb0d",
   "metadata": {},
   "outputs": [],
   "source": [
    "sum=0\n",
    "#list given \n",
    "list=[5,87,14,23,79,46]\n",
    "\n",
    "#iterate each element in list and add them\n",
    "for i in range(0,len(list)):\n",
    "    sum=sum+list[i]\n",
    "    \n",
    "print(\"Sum of all elements in given list:-\",sum)"
   ]
  },
  {
   "cell_type": "code",
   "execution_count": null,
   "id": "02a3e7cf",
   "metadata": {},
   "outputs": [],
   "source": []
  },
  {
   "cell_type": "code",
   "execution_count": null,
   "id": "bcfe527d",
   "metadata": {},
   "outputs": [],
   "source": [
    "2.\tWrite a Python program to  Multiply all numbers in the list?"
   ]
  },
  {
   "cell_type": "code",
   "execution_count": null,
   "id": "6c1693c6",
   "metadata": {},
   "outputs": [],
   "source": [
    "Total=1\n",
    "#list given \n",
    "list=[5,87,14,23,79,46]\n",
    "\n",
    "#iterate each element in list and add them\n",
    "for i in range(0,len(list)):\n",
    "    Total=Total*list[i]\n",
    "    \n",
    "print(\"Multiplication of all elements in given list:-\",Total)"
   ]
  },
  {
   "cell_type": "code",
   "execution_count": null,
   "id": "9dde6509",
   "metadata": {},
   "outputs": [],
   "source": []
  },
  {
   "cell_type": "code",
   "execution_count": null,
   "id": "e7f80523",
   "metadata": {},
   "outputs": [],
   "source": [
    "3.\tWrite a Python program to find smallest number in a list?"
   ]
  },
  {
   "cell_type": "code",
   "execution_count": null,
   "id": "5feba146",
   "metadata": {},
   "outputs": [],
   "source": [
    "#list given \n",
    "list=[5,87,14,23,97,2,46,96]\n",
    "small=list[0]\n",
    "\n",
    "for i in range (0,len(list)):\n",
    "    if list[i]<small:\n",
    "        small=list[i]\n",
    "print(\"Smallest number in a list\",small)"
   ]
  },
  {
   "cell_type": "code",
   "execution_count": null,
   "id": "932b2111",
   "metadata": {},
   "outputs": [],
   "source": []
  },
  {
   "cell_type": "code",
   "execution_count": null,
   "id": "77f40a34",
   "metadata": {},
   "outputs": [],
   "source": [
    "4.\tWrite a Python program to find largest number in a list?"
   ]
  },
  {
   "cell_type": "code",
   "execution_count": null,
   "id": "15b81cc5",
   "metadata": {},
   "outputs": [],
   "source": [
    "#list given \n",
    "list=[5,87,152,14,23,97,2,46,96]\n",
    "large=list[0]\n",
    "\n",
    "for i in range(len(list)):\n",
    "    if list[i]>large:\n",
    "        large=list[i]\n",
    "print(\"Largest number in a list\",large)     "
   ]
  },
  {
   "cell_type": "code",
   "execution_count": null,
   "id": "24405e07",
   "metadata": {},
   "outputs": [],
   "source": []
  },
  {
   "cell_type": "code",
   "execution_count": null,
   "id": "55e9e654",
   "metadata": {},
   "outputs": [],
   "source": [
    "5.\tWrite a Python program to find second largest number in a list?"
   ]
  },
  {
   "cell_type": "code",
   "execution_count": null,
   "id": "0bc5941d",
   "metadata": {},
   "outputs": [],
   "source": [
    "# list of numbers\n",
    "list1 = [10, 20, 4, 45,89, 99]\n",
    "list1.sort()\n",
    "\n",
    "print(\"Second largest number in list -\",list1[-2])"
   ]
  },
  {
   "cell_type": "code",
   "execution_count": null,
   "id": "b86489ce",
   "metadata": {},
   "outputs": [],
   "source": []
  },
  {
   "cell_type": "code",
   "execution_count": null,
   "id": "c824a896",
   "metadata": {},
   "outputs": [],
   "source": [
    "6.\tWrite a Python program to find N largest elements from a list?"
   ]
  },
  {
   "cell_type": "code",
   "execution_count": null,
   "id": "a6f76701",
   "metadata": {},
   "outputs": [],
   "source": [
    "# list of numbers\n",
    "csuolist1.sort()\n",
    "\n",
    "N=3\n",
    "print(\"N largest elements from a list \",(list1[-N:]))"
   ]
  },
  {
   "cell_type": "code",
   "execution_count": null,
   "id": "d2367986",
   "metadata": {},
   "outputs": [],
   "source": []
  },
  {
   "cell_type": "code",
   "execution_count": null,
   "id": "112c0b89",
   "metadata": {},
   "outputs": [],
   "source": [
    "7.\tWrite a Python program to print even numbers in a list?"
   ]
  },
  {
   "cell_type": "code",
   "execution_count": null,
   "id": "54083819",
   "metadata": {},
   "outputs": [],
   "source": [
    "list = [10, 20, 4, 45,89, 99,97,100]\n",
    "even=[]\n",
    "for i in list:\n",
    "    if i%2==0:\n",
    "        even.append(i)\n",
    "print (\"List of even numbers are \",even)"
   ]
  },
  {
   "cell_type": "code",
   "execution_count": null,
   "id": "2b91699b",
   "metadata": {},
   "outputs": [],
   "source": []
  },
  {
   "cell_type": "code",
   "execution_count": null,
   "id": "5923ec4f",
   "metadata": {},
   "outputs": [],
   "source": [
    "8.\tWrite a Python program to print odd numbers in a List?"
   ]
  },
  {
   "cell_type": "code",
   "execution_count": null,
   "id": "27dd6138",
   "metadata": {},
   "outputs": [],
   "source": [
    "list = [10, 20, 4, 45,89, 99,97,100,125]\n",
    "odd=[]\n",
    "for i in list:\n",
    "    if i%2!=0:\n",
    "        odd.append(i)\n",
    "print (\"List of odd numbers are \",odd)"
   ]
  },
  {
   "cell_type": "code",
   "execution_count": null,
   "id": "4af54a75",
   "metadata": {},
   "outputs": [],
   "source": []
  },
  {
   "cell_type": "code",
   "execution_count": null,
   "id": "7fe75a32",
   "metadata": {},
   "outputs": [],
   "source": [
    "9.\tWrite a Python program to Remove empty List from List?"
   ]
  },
  {
   "cell_type": "code",
   "execution_count": null,
   "id": "b5ac4980",
   "metadata": {},
   "outputs": [],
   "source": [
    "list = [10, 20,[], 4, 45,89, [],[],99]\n",
    "new_list= [x for x in list if x!=[]]\n",
    "\n",
    "\n",
    "print(\"Updated list without empty list is \",new_list)"
   ]
  },
  {
   "cell_type": "code",
   "execution_count": null,
   "id": "aafaa403",
   "metadata": {},
   "outputs": [],
   "source": []
  },
  {
   "cell_type": "code",
   "execution_count": null,
   "id": "ee0d53b7",
   "metadata": {},
   "outputs": [],
   "source": [
    "10.\tWrite a Python program to Cloning or Copying a list?"
   ]
  },
  {
   "cell_type": "code",
   "execution_count": null,
   "id": "ab839622",
   "metadata": {},
   "outputs": [],
   "source": [
    "list1 = [10, 20,  99,97,100,125]\n",
    "\n",
    "def cloning(list1):\n",
    "    list_copy=list1[:]\n",
    "    \n",
    "    return list_copy\n",
    "list2=cloning(list1)\n",
    "\n",
    "print(\"Original list \" ,list1)\n",
    "print(\"Cloning list \" ,list2)"
   ]
  },
  {
   "cell_type": "code",
   "execution_count": null,
   "id": "3b727265",
   "metadata": {},
   "outputs": [],
   "source": []
  },
  {
   "cell_type": "code",
   "execution_count": null,
   "id": "cffa4958",
   "metadata": {},
   "outputs": [],
   "source": [
    "11.\tWrite a Python program to Count occurrences of an element in a list?"
   ]
  },
  {
   "cell_type": "code",
   "execution_count": null,
   "id": "1cff9b0a",
   "metadata": {},
   "outputs": [],
   "source": [
    "def countX(lst,x):\n",
    "    return lst.count(x)\n",
    "list1 = [10, 4,20,  99,4,4,97,100,125]\n",
    "x=4\n",
    "print('{} has occurred {} times'.format(x, countX(list1, x)))"
   ]
  }
 ],
 "metadata": {
  "kernelspec": {
   "display_name": "Python 3 (ipykernel)",
   "language": "python",
   "name": "python3"
  },
  "language_info": {
   "codemirror_mode": {
    "name": "ipython",
    "version": 3
   },
   "file_extension": ".py",
   "mimetype": "text/x-python",
   "name": "python",
   "nbconvert_exporter": "python",
   "pygments_lexer": "ipython3",
   "version": "3.9.7"
  }
 },
 "nbformat": 4,
 "nbformat_minor": 5
}
